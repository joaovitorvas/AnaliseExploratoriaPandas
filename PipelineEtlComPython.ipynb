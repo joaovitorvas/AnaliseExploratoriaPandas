{
  "nbformat": 4,
  "nbformat_minor": 0,
  "metadata": {
    "colab": {
      "provenance": [],
      "mount_file_id": "1EtwApneTZn46i1EiOP3dGEtt7IcyIu7Y",
      "authorship_tag": "ABX9TyOfAElKEAaTfE73lUhnscwk",
      "include_colab_link": true
    },
    "kernelspec": {
      "name": "python3",
      "display_name": "Python 3"
    },
    "language_info": {
      "name": "python"
    }
  },
  "cells": [
    {
      "cell_type": "markdown",
      "metadata": {
        "id": "view-in-github",
        "colab_type": "text"
      },
      "source": [
        "<a href=\"https://colab.research.google.com/github/joaovitorvas/AnaliseExploratoriaPandas/blob/main/PipelineEtlComPython.ipynb\" target=\"_parent\"><img src=\"https://colab.research.google.com/assets/colab-badge.svg\" alt=\"Open In Colab\"/></a>"
      ]
    },
    {
      "cell_type": "markdown",
      "source": [
        "**Contexto:** Você é um cientista de dados no Santander e recebeu a tarefa de envolver seus clientes de maneira mais personalizada. Seu objetivo é usar o poder da IA Generativa para criar mensagens de marketing personalizadas que serão entregues a cada cliente.\n",
        "\n",
        "**Condições do Problema:**\n",
        "\n",
        "1. Você recebeu uma planilha simples, em formato CSV ('SDW2023.csv'), com uma lista de IDs de usuário do banco:\n",
        "  ```\n",
        "  UserID\n",
        "  1\n",
        "  2\n",
        "  3\n",
        "  4\n",
        "  5\n",
        "  ```\n",
        "2. Seu trabalho é consumir o endpoint `GET https://sdw-2023-prd.up.railway.app/users/{id}` (API da Santander Dev Week 2023) para obter os dados de cada cliente.\n",
        "3. Depois de obter os dados dos clientes, você vai usar a API do ChatGPT (OpenAI) para gerar uma mensagem de marketing personalizada para cada cliente. Essa mensagem deve enfatizar a importância dos investimentos.\n",
        "4. Uma vez que a mensagem para cada cliente esteja pronta, você vai enviar essas informações de volta para a API, atualizando a lista de \"news\" de cada usuário usando o endpoint `PUT https://sdw-2023-prd.up.railway.app/users/{id}`."
      ],
      "metadata": {
        "id": "iuuLmU8iiTgc"
      }
    },
    {
      "cell_type": "code",
      "source": [
        "import pandas as pd\n",
        "\n",
        "df = pd.read_csv('dados.csv')\n",
        "user_ids = df['UserID'].tolist()\n",
        "user_names = df['UserName'].tolist()"
      ],
      "metadata": {
        "colab": {
          "base_uri": "https://localhost:8080/"
        },
        "id": "i6Kk7AZUifHM",
        "outputId": "b4fedf39-5472-4900-9585-735e2d87f1d4"
      },
      "execution_count": 3,
      "outputs": [
        {
          "output_type": "execute_result",
          "data": {
            "text/plain": [
              "['Vitor', 'Alberto', 'Carlos', 'Max', 'Beto']"
            ]
          },
          "metadata": {},
          "execution_count": 3
        }
      ]
    },
    {
      "cell_type": "markdown",
      "source": [
        "### **Gerar mensagens**"
      ],
      "metadata": {
        "id": "T3BZt_XOko11"
      }
    },
    {
      "cell_type": "code",
      "source": [
        "# import openai\n",
        "\n",
        "# openai.api_key = openai_api_key\n",
        "\n",
        "# def generate_ai_news(user):\n",
        "#   completion = openai.ChatCompletion.create(\n",
        "#     model=\"gpt-4\",\n",
        "#     messages=[\n",
        "#       {\n",
        "#           \"role\": \"system\",\n",
        "#           \"content\": \"Você é um especialista em markting bancário.\"\n",
        "#       },\n",
        "#       {\n",
        "#           \"role\": \"user\",\n",
        "#           \"content\": f\"Crie uma mensagem para {user['name']} sobre a importância dos investimentos (máximo de 100 caracteres)\"\n",
        "#       }\n",
        "#     ]\n",
        "#   )\n",
        "#   return completion.choices[0].message.content.strip('\\\"')\n",
        "\n",
        "# for user in users:\n",
        "#   news = generate_ai_news(user)\n",
        "#   print(news)\n",
        "#   user['news'].append({\n",
        "#       \"icon\": \"https://digitalinnovationone.github.io/santander-dev-week-2023-api/icons/credit.svg\",\n",
        "#       \"description\": news\n",
        "#   })"
      ],
      "metadata": {
        "id": "qceim_X4kvNH"
      },
      "execution_count": null,
      "outputs": []
    },
    {
      "cell_type": "markdown",
      "source": [
        "**Através da API seria usado esse formato mas como não tenho uma conta, usarei uma lista com varias mensagens geradas anteriormente**"
      ],
      "metadata": {
        "id": "RmI3ZZbzk_p-"
      }
    },
    {
      "cell_type": "code",
      "source": [
        "df = pd.read_csv('mensagens.csv')\n",
        "mensagens = df['Mensagens'].tolist()\n",
        "mensagens\n",
        "\n"
      ],
      "metadata": {
        "colab": {
          "base_uri": "https://localhost:8080/"
        },
        "id": "Utsr4GETlPYO",
        "outputId": "665bdd0e-9d6f-4344-903c-efe2e8efd1c5"
      },
      "execution_count": 9,
      "outputs": [
        {
          "output_type": "execute_result",
          "data": {
            "text/plain": [
              "['Investir é planejar o futuro. Mesmo valores pequenos, se investidos de forma consistente ao longo dos anos, podem fazer uma grande diferença no futuro. Comece hoy mesmo a construir sua independência financeira.',\n",
              " 'Juros compostos são imbatíveis. Quanto mais cedo você começar a investir, maior será o efeito dos juros compostos no longo prazo. Não perca tempo, seu futuro agradecerá.',\n",
              " 'Deixe seu dinheiro trabalhar por você. Em vez de deixar dinheiro parado na conta, faça-o render e superar a inflação através de investimentos rentáveis. Quanto antes começar, mais rápido verá seu patrimônio multiplicar.',\n",
              " 'Diversifique e reduza riscos. Ao investir em diferentes classes de ativos, é possível balancear riscos e retornos. A diversificação é essencial para a construção de uma carteira sólida e resiliente.',\n",
              " 'Pense no longo prazo. Investir é um compromisso de longo prazo com a saúde financeira. Ignore a volatilidade de curto prazo e foque na estratégia. Disciplina e persistência são fundamentais.',\n",
              " 'Comece pequeno, mas comece. Não é preciso uma grande quantia para começar a investir. O importante é dar o primeiro passo e ser constante. A essência é investir regularmente, mês após mês.\\r\\n',\n",
              " 'Cuidar das finanças é cuidar de si. Invista em você e no seu futuro. Ter uma reserva financeira proporciona segurança e abre novas possibilidades. Crie o hábito de poupar e investir em você mesmo.']"
            ]
          },
          "metadata": {},
          "execution_count": 9
        }
      ]
    },
    {
      "cell_type": "markdown",
      "source": [
        "**Exibindo mensagens**"
      ],
      "metadata": {
        "id": "ub1IC7H-nXxf"
      }
    },
    {
      "cell_type": "code",
      "source": [
        "from random import randint\n",
        "user_messages = []\n",
        "\n",
        "for i in user_names:\n",
        "  index = randint(0, len(mensagens))\n",
        "  mensagem = mensagens[index]\n",
        "  user_messages.append(f'Bom dia {i}! {mensagem}')\n",
        "\n",
        "user_messages"
      ],
      "metadata": {
        "colab": {
          "base_uri": "https://localhost:8080/"
        },
        "id": "bA4bMax5nZ9W",
        "outputId": "824bd189-0948-4466-864d-d3652a491d0e"
      },
      "execution_count": 13,
      "outputs": [
        {
          "output_type": "execute_result",
          "data": {
            "text/plain": [
              "['Bom dia Vitor! Investir é planejar o futuro. Mesmo valores pequenos, se investidos de forma consistente ao longo dos anos, podem fazer uma grande diferença no futuro. Comece hoy mesmo a construir sua independência financeira.',\n",
              " 'Bom dia Alberto! Comece pequeno, mas comece. Não é preciso uma grande quantia para começar a investir. O importante é dar o primeiro passo e ser constante. A essência é investir regularmente, mês após mês.\\r\\n',\n",
              " 'Bom dia Carlos! Pense no longo prazo. Investir é um compromisso de longo prazo com a saúde financeira. Ignore a volatilidade de curto prazo e foque na estratégia. Disciplina e persistência são fundamentais.',\n",
              " 'Bom dia Max! Comece pequeno, mas comece. Não é preciso uma grande quantia para começar a investir. O importante é dar o primeiro passo e ser constante. A essência é investir regularmente, mês após mês.\\r\\n',\n",
              " 'Bom dia Beto! Comece pequeno, mas comece. Não é preciso uma grande quantia para começar a investir. O importante é dar o primeiro passo e ser constante. A essência é investir regularmente, mês após mês.\\r\\n']"
            ]
          },
          "metadata": {},
          "execution_count": 13
        }
      ]
    },
    {
      "cell_type": "code",
      "source": [
        "import pandas as pd\n",
        "\n",
        "# Criando um dataframe\n",
        "df = pd.DataFrame({'UserID': user_ids,\n",
        "                  'UserName': user_names,\n",
        "                   'UserMessage': user_messages,})\n",
        "\n",
        "\n",
        "\n",
        "df.to_csv('dados.csv', index=False)\n",
        "\n",
        "df"
      ],
      "metadata": {
        "colab": {
          "base_uri": "https://localhost:8080/",
          "height": 206
        },
        "id": "YOiLem1fo24g",
        "outputId": "184400fa-7e69-4ab3-eff0-b8ba72fbdc3b"
      },
      "execution_count": 24,
      "outputs": [
        {
          "output_type": "execute_result",
          "data": {
            "text/plain": [
              "   UserID UserName                                        UserMessage\n",
              "0       1    Vitor  Bom dia Vitor! Investir é planejar o futuro. M...\n",
              "1       2  Alberto  Bom dia Alberto! Comece pequeno, mas comece. N...\n",
              "2       3   Carlos  Bom dia Carlos! Pense no longo prazo. Investir...\n",
              "3       4      Max  Bom dia Max! Comece pequeno, mas comece. Não é...\n",
              "4       5     Beto  Bom dia Beto! Comece pequeno, mas comece. Não ..."
            ],
            "text/html": [
              "\n",
              "  <div id=\"df-3f61f479-42b6-4c72-a74f-b8bb14542ffb\" class=\"colab-df-container\">\n",
              "    <div>\n",
              "<style scoped>\n",
              "    .dataframe tbody tr th:only-of-type {\n",
              "        vertical-align: middle;\n",
              "    }\n",
              "\n",
              "    .dataframe tbody tr th {\n",
              "        vertical-align: top;\n",
              "    }\n",
              "\n",
              "    .dataframe thead th {\n",
              "        text-align: right;\n",
              "    }\n",
              "</style>\n",
              "<table border=\"1\" class=\"dataframe\">\n",
              "  <thead>\n",
              "    <tr style=\"text-align: right;\">\n",
              "      <th></th>\n",
              "      <th>UserID</th>\n",
              "      <th>UserName</th>\n",
              "      <th>UserMessage</th>\n",
              "    </tr>\n",
              "  </thead>\n",
              "  <tbody>\n",
              "    <tr>\n",
              "      <th>0</th>\n",
              "      <td>1</td>\n",
              "      <td>Vitor</td>\n",
              "      <td>Bom dia Vitor! Investir é planejar o futuro. M...</td>\n",
              "    </tr>\n",
              "    <tr>\n",
              "      <th>1</th>\n",
              "      <td>2</td>\n",
              "      <td>Alberto</td>\n",
              "      <td>Bom dia Alberto! Comece pequeno, mas comece. N...</td>\n",
              "    </tr>\n",
              "    <tr>\n",
              "      <th>2</th>\n",
              "      <td>3</td>\n",
              "      <td>Carlos</td>\n",
              "      <td>Bom dia Carlos! Pense no longo prazo. Investir...</td>\n",
              "    </tr>\n",
              "    <tr>\n",
              "      <th>3</th>\n",
              "      <td>4</td>\n",
              "      <td>Max</td>\n",
              "      <td>Bom dia Max! Comece pequeno, mas comece. Não é...</td>\n",
              "    </tr>\n",
              "    <tr>\n",
              "      <th>4</th>\n",
              "      <td>5</td>\n",
              "      <td>Beto</td>\n",
              "      <td>Bom dia Beto! Comece pequeno, mas comece. Não ...</td>\n",
              "    </tr>\n",
              "  </tbody>\n",
              "</table>\n",
              "</div>\n",
              "    <div class=\"colab-df-buttons\">\n",
              "\n",
              "  <div class=\"colab-df-container\">\n",
              "    <button class=\"colab-df-convert\" onclick=\"convertToInteractive('df-3f61f479-42b6-4c72-a74f-b8bb14542ffb')\"\n",
              "            title=\"Convert this dataframe to an interactive table.\"\n",
              "            style=\"display:none;\">\n",
              "\n",
              "  <svg xmlns=\"http://www.w3.org/2000/svg\" height=\"24px\" viewBox=\"0 -960 960 960\">\n",
              "    <path d=\"M120-120v-720h720v720H120Zm60-500h600v-160H180v160Zm220 220h160v-160H400v160Zm0 220h160v-160H400v160ZM180-400h160v-160H180v160Zm440 0h160v-160H620v160ZM180-180h160v-160H180v160Zm440 0h160v-160H620v160Z\"/>\n",
              "  </svg>\n",
              "    </button>\n",
              "\n",
              "  <style>\n",
              "    .colab-df-container {\n",
              "      display:flex;\n",
              "      gap: 12px;\n",
              "    }\n",
              "\n",
              "    .colab-df-convert {\n",
              "      background-color: #E8F0FE;\n",
              "      border: none;\n",
              "      border-radius: 50%;\n",
              "      cursor: pointer;\n",
              "      display: none;\n",
              "      fill: #1967D2;\n",
              "      height: 32px;\n",
              "      padding: 0 0 0 0;\n",
              "      width: 32px;\n",
              "    }\n",
              "\n",
              "    .colab-df-convert:hover {\n",
              "      background-color: #E2EBFA;\n",
              "      box-shadow: 0px 1px 2px rgba(60, 64, 67, 0.3), 0px 1px 3px 1px rgba(60, 64, 67, 0.15);\n",
              "      fill: #174EA6;\n",
              "    }\n",
              "\n",
              "    .colab-df-buttons div {\n",
              "      margin-bottom: 4px;\n",
              "    }\n",
              "\n",
              "    [theme=dark] .colab-df-convert {\n",
              "      background-color: #3B4455;\n",
              "      fill: #D2E3FC;\n",
              "    }\n",
              "\n",
              "    [theme=dark] .colab-df-convert:hover {\n",
              "      background-color: #434B5C;\n",
              "      box-shadow: 0px 1px 3px 1px rgba(0, 0, 0, 0.15);\n",
              "      filter: drop-shadow(0px 1px 2px rgba(0, 0, 0, 0.3));\n",
              "      fill: #FFFFFF;\n",
              "    }\n",
              "  </style>\n",
              "\n",
              "    <script>\n",
              "      const buttonEl =\n",
              "        document.querySelector('#df-3f61f479-42b6-4c72-a74f-b8bb14542ffb button.colab-df-convert');\n",
              "      buttonEl.style.display =\n",
              "        google.colab.kernel.accessAllowed ? 'block' : 'none';\n",
              "\n",
              "      async function convertToInteractive(key) {\n",
              "        const element = document.querySelector('#df-3f61f479-42b6-4c72-a74f-b8bb14542ffb');\n",
              "        const dataTable =\n",
              "          await google.colab.kernel.invokeFunction('convertToInteractive',\n",
              "                                                    [key], {});\n",
              "        if (!dataTable) return;\n",
              "\n",
              "        const docLinkHtml = 'Like what you see? Visit the ' +\n",
              "          '<a target=\"_blank\" href=https://colab.research.google.com/notebooks/data_table.ipynb>data table notebook</a>'\n",
              "          + ' to learn more about interactive tables.';\n",
              "        element.innerHTML = '';\n",
              "        dataTable['output_type'] = 'display_data';\n",
              "        await google.colab.output.renderOutput(dataTable, element);\n",
              "        const docLink = document.createElement('div');\n",
              "        docLink.innerHTML = docLinkHtml;\n",
              "        element.appendChild(docLink);\n",
              "      }\n",
              "    </script>\n",
              "  </div>\n",
              "\n",
              "\n",
              "<div id=\"df-b7f487b7-55c9-4ee1-a39a-18d0cc986566\">\n",
              "  <button class=\"colab-df-quickchart\" onclick=\"quickchart('df-b7f487b7-55c9-4ee1-a39a-18d0cc986566')\"\n",
              "            title=\"Suggest charts.\"\n",
              "            style=\"display:none;\">\n",
              "\n",
              "<svg xmlns=\"http://www.w3.org/2000/svg\" height=\"24px\"viewBox=\"0 0 24 24\"\n",
              "     width=\"24px\">\n",
              "    <g>\n",
              "        <path d=\"M19 3H5c-1.1 0-2 .9-2 2v14c0 1.1.9 2 2 2h14c1.1 0 2-.9 2-2V5c0-1.1-.9-2-2-2zM9 17H7v-7h2v7zm4 0h-2V7h2v10zm4 0h-2v-4h2v4z\"/>\n",
              "    </g>\n",
              "</svg>\n",
              "  </button>\n",
              "\n",
              "<style>\n",
              "  .colab-df-quickchart {\n",
              "      --bg-color: #E8F0FE;\n",
              "      --fill-color: #1967D2;\n",
              "      --hover-bg-color: #E2EBFA;\n",
              "      --hover-fill-color: #174EA6;\n",
              "      --disabled-fill-color: #AAA;\n",
              "      --disabled-bg-color: #DDD;\n",
              "  }\n",
              "\n",
              "  [theme=dark] .colab-df-quickchart {\n",
              "      --bg-color: #3B4455;\n",
              "      --fill-color: #D2E3FC;\n",
              "      --hover-bg-color: #434B5C;\n",
              "      --hover-fill-color: #FFFFFF;\n",
              "      --disabled-bg-color: #3B4455;\n",
              "      --disabled-fill-color: #666;\n",
              "  }\n",
              "\n",
              "  .colab-df-quickchart {\n",
              "    background-color: var(--bg-color);\n",
              "    border: none;\n",
              "    border-radius: 50%;\n",
              "    cursor: pointer;\n",
              "    display: none;\n",
              "    fill: var(--fill-color);\n",
              "    height: 32px;\n",
              "    padding: 0;\n",
              "    width: 32px;\n",
              "  }\n",
              "\n",
              "  .colab-df-quickchart:hover {\n",
              "    background-color: var(--hover-bg-color);\n",
              "    box-shadow: 0 1px 2px rgba(60, 64, 67, 0.3), 0 1px 3px 1px rgba(60, 64, 67, 0.15);\n",
              "    fill: var(--button-hover-fill-color);\n",
              "  }\n",
              "\n",
              "  .colab-df-quickchart-complete:disabled,\n",
              "  .colab-df-quickchart-complete:disabled:hover {\n",
              "    background-color: var(--disabled-bg-color);\n",
              "    fill: var(--disabled-fill-color);\n",
              "    box-shadow: none;\n",
              "  }\n",
              "\n",
              "  .colab-df-spinner {\n",
              "    border: 2px solid var(--fill-color);\n",
              "    border-color: transparent;\n",
              "    border-bottom-color: var(--fill-color);\n",
              "    animation:\n",
              "      spin 1s steps(1) infinite;\n",
              "  }\n",
              "\n",
              "  @keyframes spin {\n",
              "    0% {\n",
              "      border-color: transparent;\n",
              "      border-bottom-color: var(--fill-color);\n",
              "      border-left-color: var(--fill-color);\n",
              "    }\n",
              "    20% {\n",
              "      border-color: transparent;\n",
              "      border-left-color: var(--fill-color);\n",
              "      border-top-color: var(--fill-color);\n",
              "    }\n",
              "    30% {\n",
              "      border-color: transparent;\n",
              "      border-left-color: var(--fill-color);\n",
              "      border-top-color: var(--fill-color);\n",
              "      border-right-color: var(--fill-color);\n",
              "    }\n",
              "    40% {\n",
              "      border-color: transparent;\n",
              "      border-right-color: var(--fill-color);\n",
              "      border-top-color: var(--fill-color);\n",
              "    }\n",
              "    60% {\n",
              "      border-color: transparent;\n",
              "      border-right-color: var(--fill-color);\n",
              "    }\n",
              "    80% {\n",
              "      border-color: transparent;\n",
              "      border-right-color: var(--fill-color);\n",
              "      border-bottom-color: var(--fill-color);\n",
              "    }\n",
              "    90% {\n",
              "      border-color: transparent;\n",
              "      border-bottom-color: var(--fill-color);\n",
              "    }\n",
              "  }\n",
              "</style>\n",
              "\n",
              "  <script>\n",
              "    async function quickchart(key) {\n",
              "      const quickchartButtonEl =\n",
              "        document.querySelector('#' + key + ' button');\n",
              "      quickchartButtonEl.disabled = true;  // To prevent multiple clicks.\n",
              "      quickchartButtonEl.classList.add('colab-df-spinner');\n",
              "      try {\n",
              "        const charts = await google.colab.kernel.invokeFunction(\n",
              "            'suggestCharts', [key], {});\n",
              "      } catch (error) {\n",
              "        console.error('Error during call to suggestCharts:', error);\n",
              "      }\n",
              "      quickchartButtonEl.classList.remove('colab-df-spinner');\n",
              "      quickchartButtonEl.classList.add('colab-df-quickchart-complete');\n",
              "    }\n",
              "    (() => {\n",
              "      let quickchartButtonEl =\n",
              "        document.querySelector('#df-b7f487b7-55c9-4ee1-a39a-18d0cc986566 button');\n",
              "      quickchartButtonEl.style.display =\n",
              "        google.colab.kernel.accessAllowed ? 'block' : 'none';\n",
              "    })();\n",
              "  </script>\n",
              "</div>\n",
              "    </div>\n",
              "  </div>\n"
            ]
          },
          "metadata": {},
          "execution_count": 24
        }
      ]
    }
  ]
}